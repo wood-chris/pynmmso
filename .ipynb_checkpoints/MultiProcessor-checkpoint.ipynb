{
 "cells": [
  {
   "cell_type": "code",
   "execution_count": 1,
   "metadata": {},
   "outputs": [
    {
     "name": "stdout",
     "output_type": "stream",
     "text": [
      "Mode at [-0.90586899] has value 1.045058924949589\n",
      "Mode at [1.65586885] has value 5.24790982505031\n"
     ]
    }
   ],
   "source": [
    "from pynmmso import Nmmso\n",
    "from pynmmso import MultiprocessorFitnessCaller\n",
    "\n",
    "class MyProblem:\n",
    "    @staticmethod\n",
    "    def fitness(params):\n",
    "        x = params[0]\n",
    "        return -x**4 + x**3 + 3 * x**2\n",
    "\n",
    "    @staticmethod\n",
    "    def get_bounds():\n",
    "        return [-2], [2]\n",
    "\n",
    "\n",
    "def main():\n",
    "    number_of_fitness_evaluations = 1000\n",
    "    num_workers = 4\n",
    "    my_multi_processor_fitness_caller = MultiprocessorFitnessCaller(num_workers)\n",
    "    nmmso = Nmmso(MyProblem(), fitness_caller=my_multi_processor_fitness_caller)\n",
    "    my_result = nmmso.run(number_of_fitness_evaluations)\n",
    "    my_multi_processor_fitness_caller.finish()\n",
    "\n",
    "    for mode_result in my_result:\n",
    "        print(\"Mode at {} has value {}\".format(mode_result.location, mode_result.value))\n",
    "\n",
    "if __name__ == \"__main__\":\n",
    "    main()"
   ]
  }
 ],
 "metadata": {
  "kernelspec": {
   "display_name": "Python (MOO)",
   "language": "python",
   "name": "moo"
  },
  "language_info": {
   "codemirror_mode": {
    "name": "ipython",
    "version": 3
   },
   "file_extension": ".py",
   "mimetype": "text/x-python",
   "name": "python",
   "nbconvert_exporter": "python",
   "pygments_lexer": "ipython3",
   "version": "3.7.3"
  }
 },
 "nbformat": 4,
 "nbformat_minor": 2
}
