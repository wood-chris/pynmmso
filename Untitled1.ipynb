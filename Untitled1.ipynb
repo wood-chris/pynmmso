{
 "cells": [
  {
   "cell_type": "code",
   "execution_count": 1,
   "metadata": {},
   "outputs": [],
   "source": [
    "import pynmmso"
   ]
  },
  {
   "cell_type": "code",
   "execution_count": null,
   "metadata": {},
   "outputs": [],
   "source": [
    "print(dir(pynmmso))"
   ]
  },
  {
   "cell_type": "code",
   "execution_count": null,
   "metadata": {},
   "outputs": [],
   "source": [
    "from pynmmso import Nmmso\n",
    "from pynmmso import MultiprocessorFitnessCaller"
   ]
  },
  {
   "cell_type": "code",
   "execution_count": null,
   "metadata": {},
   "outputs": [],
   "source": [
    "class MyProblem:\n",
    "    @staticmethod\n",
    "    def fitness(params):\n",
    "        x = params[0]\n",
    "        return -x**4 + x**3 + 3 * x**2\n",
    "        \n",
    "    @staticmethod\n",
    "    def get_bounds():\n",
    "        return [-2], [2]\n",
    "        \n",
    "def main():        \n",
    "    evs = 1000\n",
    "    num_workers = 2\n",
    "    mpfc = MultiprocessorFitnessCaller(num_workers)\n",
    "    nmmso = Nmmso(MyProblem(), fitness_caller=mpfc)\n",
    "    r = nmmso.run(evs)\n",
    "    mpfc.finish()\n",
    "    \n",
    "    for m in r:\n",
    "        print(\"{} {}\".format(m.location, m.value))\n",
    "        \n",
    "if __name__ == '__main__':\n",
    "    main()\n"
   ]
  }
 ],
 "metadata": {
  "kernelspec": {
   "display_name": "Python 3",
   "language": "python",
   "name": "python3"
  },
  "language_info": {
   "codemirror_mode": {
    "name": "ipython",
    "version": 3
   },
   "file_extension": ".py",
   "mimetype": "text/x-python",
   "name": "python",
   "nbconvert_exporter": "python",
   "pygments_lexer": "ipython3",
   "version": "3.7.3"
  }
 },
 "nbformat": 4,
 "nbformat_minor": 2
}
