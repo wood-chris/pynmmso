{
 "cells": [
  {
   "cell_type": "code",
   "execution_count": 1,
   "metadata": {},
   "outputs": [],
   "source": [
    "from pynmmso import Nmmso\n",
    "from pynmmso import MultiprocessorFitnessCaller"
   ]
  },
  {
   "cell_type": "code",
   "execution_count": 2,
   "metadata": {},
   "outputs": [],
   "source": [
    "class mp:\n",
    "    @staticmethod\n",
    "    def fitness(params):\n",
    "        x = params[0]\n",
    "        return -x**4 + x**3 + 3 * x**2\n",
    "    \n",
    "    @staticmethod\n",
    "    def get_bounds():\n",
    "        return [-2], [2]"
   ]
  },
  {
   "cell_type": "code",
   "execution_count": 3,
   "metadata": {},
   "outputs": [],
   "source": [
    "def main():\n",
    "    evs = 100\n",
    "    nw = 2\n",
    "    mfc = MultiprocessorFitnessCaller(nw)\n",
    "    nmmso = Nmmso(mp(), fitness_caller=mfc)\n",
    "    r = nmmso.run(evs)\n",
    "    mfc.finish()\n",
    "    \n",
    "    for m in r:\n",
    "        print(\"{} {}\".format(m.location, m.value))"
   ]
  },
  {
   "cell_type": "code",
   "execution_count": null,
   "metadata": {},
   "outputs": [],
   "source": [
    "if __name__ == \"__main__\":\n",
    "    main()"
   ]
  },
  {
   "cell_type": "code",
   "execution_count": null,
   "metadata": {},
   "outputs": [],
   "source": []
  }
 ],
 "metadata": {
  "kernelspec": {
   "display_name": "Python 3",
   "language": "python",
   "name": "python3"
  },
  "language_info": {
   "codemirror_mode": {
    "name": "ipython",
    "version": 3
   },
   "file_extension": ".py",
   "mimetype": "text/x-python",
   "name": "python",
   "nbconvert_exporter": "python",
   "pygments_lexer": "ipython3",
   "version": "3.7.3"
  }
 },
 "nbformat": 4,
 "nbformat_minor": 2
}
