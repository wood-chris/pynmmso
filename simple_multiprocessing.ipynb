{
 "cells": [
  {
   "cell_type": "code",
   "execution_count": 1,
   "metadata": {},
   "outputs": [],
   "source": [
    "from pynmmso import Nmmso\n",
    "from pynmmso.multiprocessor_fitness_caller import MultiprocessorFitnessCaller"
   ]
  },
  {
   "cell_type": "code",
   "execution_count": 2,
   "metadata": {},
   "outputs": [],
   "source": [
    "class sphere:\n",
    "    @staticmethod\n",
    "    def fitness(x):\n",
    "        return sum(x*x)\n",
    "    \n",
    "    @staticmethod\n",
    "    def get_bounds():\n",
    "        return([-1,-1],[1,1])"
   ]
  },
  {
   "cell_type": "code",
   "execution_count": 3,
   "metadata": {},
   "outputs": [],
   "source": [
    "n = Nmmso(sphere, fitness_caller=MultiprocessorFitnessCaller(2))\n",
    "evs = 1000"
   ]
  },
  {
   "cell_type": "code",
   "execution_count": 4,
   "metadata": {},
   "outputs": [],
   "source": [
    "my_result = n.run(evs)"
   ]
  },
  {
   "cell_type": "code",
   "execution_count": 5,
   "metadata": {},
   "outputs": [
    {
     "name": "stdout",
     "output_type": "stream",
     "text": [
      "Mode at [ 0.99999992 -1.        ] has value 1.9999998293567427\n",
      "Mode at [-1.  1.] has value 1.999999997227712\n",
      "Mode at [0.99999999 1.        ] has value 1.9999999850970644\n",
      "Mode at [-0.99999997 -0.99999999] has value 1.9999999314055241\n"
     ]
    }
   ],
   "source": [
    "for r in my_result:\n",
    "    print(\"Mode at {} has value {}\".format(r.location, r.value))"
   ]
  }
 ],
 "metadata": {
  "kernelspec": {
   "display_name": "Python (MOO)",
   "language": "python",
   "name": "multiobjective"
  },
  "language_info": {
   "codemirror_mode": {
    "name": "ipython",
    "version": 3
   },
   "file_extension": ".py",
   "mimetype": "text/x-python",
   "name": "python",
   "nbconvert_exporter": "python",
   "pygments_lexer": "ipython3",
   "version": "3.7.3"
  },
  "pycharm": {
   "stem_cell": {
    "cell_type": "raw",
    "source": [],
    "metadata": {
     "collapsed": false
    }
   }
  }
 },
 "nbformat": 4,
 "nbformat_minor": 2
}