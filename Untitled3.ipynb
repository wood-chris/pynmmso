{
 "cells": [
  {
   "cell_type": "code",
   "execution_count": 1,
   "metadata": {},
   "outputs": [
    {
     "name": "stdout",
     "output_type": "stream",
     "text": [
      "Mode at [-0.90586716] has value 1.0450589249364253\n",
      "Mode at [1.65586885] has value 5.24790982505031\n",
      "Swarm id: 109 uniform parameter space location : [0.21882657]  original parameter space location: [-0.90586716]\n",
      "Swarm id: 5 uniform parameter space location : [0.73117377]  original parameter space location: [1.65586885]\n"
     ]
    }
   ],
   "source": [
    "from pynmmso import Nmmso\n",
    "from pynmmso.wrappers import UniformRangeProblem\n",
    "\n",
    "class MyProblem:\n",
    "    @staticmethod\n",
    "    def fitness(params):\n",
    "        x = params[0]\n",
    "        return -x**4 + x**3 + 3 * x**2\n",
    "\n",
    "    @staticmethod\n",
    "    def get_bounds():\n",
    "        return [-2], [3]\n",
    "\n",
    "\n",
    "def main():\n",
    "    number_of_fitness_evaluations = 1000\n",
    "    problem = UniformRangeProblem(MyProblem())\n",
    "    nmmso = Nmmso(problem)\n",
    "    my_result = nmmso.run(number_of_fitness_evaluations)\n",
    "    for mode_result in my_result:\n",
    "        print(\"Mode at {} has value {}\".format(mode_result.location, mode_result.value))\n",
    "\n",
    "    # The internals of the Nmmso object will be in the uniform parameter space\n",
    "    for swarm in nmmso.swarms:\n",
    "        print(\"Swarm id: {} uniform parameter space location : {}  original parameter space location: {}\".format(\n",
    "            swarm.id, swarm.mode_location, problem.remap_parameters(swarm.mode_location)))\n",
    "\n",
    "\n",
    "if __name__ == \"__main__\":\n",
    "    main()"
   ]
  }
 ],
 "metadata": {
  "kernelspec": {
   "display_name": "Python 3",
   "language": "python",
   "name": "python3"
  },
  "language_info": {
   "codemirror_mode": {
    "name": "ipython",
    "version": 3
   },
   "file_extension": ".py",
   "mimetype": "text/x-python",
   "name": "python",
   "nbconvert_exporter": "python",
   "pygments_lexer": "ipython3",
   "version": "3.7.3"
  }
 },
 "nbformat": 4,
 "nbformat_minor": 2
}
